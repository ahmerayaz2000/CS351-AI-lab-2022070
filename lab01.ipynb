{
  "nbformat": 4,
  "nbformat_minor": 0,
  "metadata": {
    "colab": {
      "provenance": [],
      "authorship_tag": "ABX9TyMyCG/05EXGZiWkxNnrk89D",
      "include_colab_link": true
    },
    "kernelspec": {
      "name": "python3",
      "display_name": "Python 3"
    },
    "language_info": {
      "name": "python"
    }
  },
  "cells": [
    {
      "cell_type": "markdown",
      "metadata": {
        "id": "view-in-github",
        "colab_type": "text"
      },
      "source": [
        "<a href=\"https://colab.research.google.com/github/ahmerayaz2000/CS351-AI-lab-2022070/blob/main/lab01.ipynb\" target=\"_parent\"><img src=\"https://colab.research.google.com/assets/colab-badge.svg\" alt=\"Open In Colab\"/></a>"
      ]
    },
    {
      "cell_type": "code",
      "execution_count": null,
      "metadata": {
        "id": "0DKvZxbEl2u7"
      },
      "outputs": [],
      "source": [
        "import random\n",
        "\n",
        "def ai_number_guessing_game():\n",
        "    print(\"Think of a number between 1 and 100, and I (the AI) will try to guess it.\")\n",
        "    low = 1\n",
        "    high = 100\n",
        "    attempts = 0\n",
        "\n",
        "    # Select the algorithm\n",
        "    print(\"Choose a method: \\n1. Binary Search (default)\\n2. Breadth-First Search\\n3. Depth-First Search\\n4. Genetic Algorithm\")\n",
        "    choice = input(\"Enter 1, 2, 3, or 4: \")\n",
        "\n",
        "    # Choose the correct guess function based on user's choice\n",
        "    if choice == '2':\n",
        "        guess_function = bfs_guess\n",
        "    elif choice == '3':\n",
        "        guess_function = dfs_guess\n",
        "    elif choice == '4':\n",
        "        guess_function = genetic_algorithm_guess\n",
        "    else:\n",
        "        guess_function = binary_search_guess  # Default to binary search\n",
        "\n",
        "    # Main loop to guess the number\n",
        "    while low <= high:\n",
        "        guess = guess_function(low, high)  # AI's guess using the chosen algorithm\n",
        "        attempts += 1\n",
        "\n",
        "        print(f\"AI's guess is: {guess}\")\n",
        "        feedback = input(\"Enter 'h' if too high, 'l' if too low, or 'c' if correct: \").lower()\n",
        "\n",
        "        if feedback == 'c':\n",
        "            print(f\"I (AI) guessed the number in {attempts} attempts!\")\n",
        "            return\n",
        "        elif feedback == 'h':\n",
        "            high = guess - 1  # Adjust the upper bound if too high\n",
        "        elif feedback == 'l':\n",
        "            low = guess + 1  # Adjust the lower bound if too low\n",
        "\n",
        "    print(\"Something went wrong!\")\n",
        "\n",
        "# Default Binary Search\n",
        "def binary_search_guess(low, high):\n",
        "    return (low + high) // 2\n",
        "\n",
        "# Breadth-First Search (BFS)\n",
        "def bfs_guess(low, high):\n",
        "    queue = list(range(low, high + 1))\n",
        "    guess = queue.pop(0)  # Get the first element (like level-order traversal in BFS)\n",
        "    return guess\n",
        "\n",
        "# Depth-First Search (DFS)\n",
        "def dfs_guess(low, high):\n",
        "    stack = list(range(low, high + 1))\n",
        "    guess = stack.pop()  # Get the last element (like depth-first traversal)\n",
        "    return guess\n",
        "\n",
        "# Genetic Algorithm for Guessing\n",
        "def genetic_algorithm_guess(low, high):\n",
        "    population_size = 10\n",
        "    mutation_rate = 0.1\n",
        "\n",
        "    # Generate initial population randomly within the range\n",
        "    population = [random.randint(low, high) for _ in range(population_size)]\n",
        "\n",
        "    while True:\n",
        "        # Select the \"fittest\" guess (closest to the middle of the range)\n",
        "        best_guess = min(population, key=lambda x: abs((low + high) // 2 - x))\n",
        "\n",
        "        # Return the best guess from the current population\n",
        "        return best_guess\n",
        "\n",
        "        # Mutate population slightly (randomly)\n",
        "        population = [mutate_guess(guess, low, high, mutation_rate) for guess in population]\n",
        "\n",
        "# Mutation function for Genetic Algorithm\n",
        "def mutate_guess(guess, low, high, mutation_rate):\n",
        "    if random.random() < mutation_rate:\n",
        "        # Mutate the guess by adding or subtracting a small random value\n",
        "        guess += random.choice([-1, 1])\n",
        "        guess = max(low, min(high, guess))  # Keep guess within bounds\n",
        "    return guess\n",
        "\n",
        "# Run the AI version\n",
        "ai_number_guessing_game()"
      ]
    }
  ]
}